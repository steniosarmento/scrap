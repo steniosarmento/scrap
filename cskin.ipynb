{
 "cells": [
  {
   "cell_type": "code",
   "execution_count": 1,
   "metadata": {},
   "outputs": [],
   "source": [
    "#Import das bibliotecas\n",
    "import time\n",
    "import pandas as pd\n",
    "from selenium import webdriver\n",
    "from selenium.webdriver.chrome.service import Service\n",
    "from selenium.webdriver.common.by import By"
   ]
  },
  {
   "cell_type": "code",
   "execution_count": 2,
   "metadata": {},
   "outputs": [],
   "source": [
    "#Instancia e configura um driver para o Chrome\n",
    "service = Service()\n",
    "options = webdriver.ChromeOptions()\n",
    "\n",
    "options.headless = True\n",
    "options.add_argument(\"start-maximized\")\n",
    "options.add_experimental_option(\"excludeSwitches\", [\"enable-automation\"])\n",
    "options.add_experimental_option('useAutomationExtension', False)\n",
    "\n",
    "driver = webdriver.Chrome(service=service, options=options)"
   ]
  },
  {
   "cell_type": "code",
   "execution_count": 3,
   "metadata": {},
   "outputs": [],
   "source": [
    "#Navega para página da loja\n",
    "url = 'https://www.cskinstore.com/'\n",
    "driver.get(url)"
   ]
  },
  {
   "cell_type": "markdown",
   "metadata": {},
   "source": [
    "Etapas manuais:\n",
    "1 - Logar no site\n",
    "2 - Aceitar os cookies\n",
    "3 - Filtrar FACA\n",
    "4 - Colocar 100 de preco maximo"
   ]
  },
  {
   "cell_type": "code",
   "execution_count": null,
   "metadata": {},
   "outputs": [
    {
     "ename": "KeyboardInterrupt",
     "evalue": "",
     "output_type": "error",
     "traceback": [
      "\u001b[1;31m---------------------------------------------------------------------------\u001b[0m",
      "\u001b[1;31mKeyboardInterrupt\u001b[0m                         Traceback (most recent call last)",
      "Cell \u001b[1;32mIn[19], line 4\u001b[0m\n\u001b[0;32m      2\u001b[0m valor \u001b[38;5;241m=\u001b[39m \u001b[38;5;241m100\u001b[39m\n\u001b[0;32m      3\u001b[0m \u001b[38;5;28;01mwhile\u001b[39;00m teste \u001b[38;5;241m==\u001b[39m \u001b[38;5;241m0\u001b[39m:\n\u001b[1;32m----> 4\u001b[0m     \u001b[43mtime\u001b[49m\u001b[38;5;241;43m.\u001b[39;49m\u001b[43msleep\u001b[49m\u001b[43m(\u001b[49m\u001b[38;5;241;43m5\u001b[39;49m\u001b[43m)\u001b[49m\n\u001b[0;32m      5\u001b[0m     driver\u001b[38;5;241m.\u001b[39mfind_elements(By\u001b[38;5;241m.\u001b[39mCLASS_NAME, \u001b[38;5;124m'\u001b[39m\u001b[38;5;124mchakra-input.css-4mvnxo\u001b[39m\u001b[38;5;124m'\u001b[39m)[\u001b[38;5;241m1\u001b[39m]\u001b[38;5;241m.\u001b[39mclick()\n\u001b[0;32m      6\u001b[0m     driver\u001b[38;5;241m.\u001b[39mfind_elements(By\u001b[38;5;241m.\u001b[39mCLASS_NAME, \u001b[38;5;124m'\u001b[39m\u001b[38;5;124mchakra-input.css-4mvnxo\u001b[39m\u001b[38;5;124m'\u001b[39m)[\u001b[38;5;241m1\u001b[39m]\u001b[38;5;241m.\u001b[39mclear()\n",
      "\u001b[1;31mKeyboardInterrupt\u001b[0m: "
     ]
    }
   ],
   "source": [
    "teste = 0\n",
    "valor = 10\n",
    "while teste == 0:\n",
    "    time.sleep(5)\n",
    "    driver.find_elements(By.CLASS_NAME, 'chakra-input.css-4mvnxo')[1].click()\n",
    "    driver.find_elements(By.CLASS_NAME, 'chakra-input.css-4mvnxo')[1].clear()\n",
    "    driver.find_elements(By.CLASS_NAME, 'chakra-input.css-4mvnxo')[1].send_keys(valor)\n",
    "    driver.find_element(By.CLASS_NAME, 'chakra-input.css-nj40x6').click()\n",
    "    driver.find_element(By.CLASS_NAME, 'chakra-input.css-nj40x6').clear()\n",
    "    driver.find_element(By.CLASS_NAME, 'chakra-input.css-nj40x6').send_keys('navaja')\n",
    "    driver.find_element(By.XPATH, '//p[text()=\"Pesquisar\"]').click()\n",
    "    teste = len(driver.find_elements(By.CLASS_NAME, 'css-l21fsy'))\n",
    "    valor = valor + 1\n",
    "    if valor > 580:\n",
    "        valor = 10\n",
    "\n",
    "# Adiciona ao carrinho\n",
    "driver.find_elements(By.CLASS_NAME, 'chakra-button.css-11szynj')[0].click()\n",
    "\n",
    "# Vai para o carrinho\n",
    "url = 'https://www.cskinstore.com/cart'\n",
    "driver.get(url)\n",
    "\n",
    "# Clica no checkbox\n",
    "driver.find_elements(By.CLASS_NAME, 'chakra-checkbox__control.css-1n64u0g')[0].click()\n",
    "\n",
    "# Fecha o pedido\n",
    "driver.find_element(By.XPATH, '//button[text()=\"Fechar pedido\"]').click()\n",
    "\n",
    "# Confirma o pedido\n",
    "driver.find_element(By.XPATH, '//button[text()=\"Confirmar\"]').click()"
   ]
  }
 ],
 "metadata": {
  "kernelspec": {
   "display_name": "Python 3",
   "language": "python",
   "name": "python3"
  },
  "language_info": {
   "codemirror_mode": {
    "name": "ipython",
    "version": 3
   },
   "file_extension": ".py",
   "mimetype": "text/x-python",
   "name": "python",
   "nbconvert_exporter": "python",
   "pygments_lexer": "ipython3",
   "version": "3.11.9"
  }
 },
 "nbformat": 4,
 "nbformat_minor": 2
}
