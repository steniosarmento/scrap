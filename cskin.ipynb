{
 "cells": [
  {
   "cell_type": "code",
   "execution_count": 1,
   "metadata": {},
   "outputs": [],
   "source": [
    "#Import das bibliotecas\n",
    "import time\n",
    "import pandas as pd\n",
    "from selenium import webdriver\n",
    "from selenium.webdriver.chrome.service import Service\n",
    "from selenium.webdriver.common.by import By"
   ]
  },
  {
   "cell_type": "code",
   "execution_count": 2,
   "metadata": {},
   "outputs": [],
   "source": [
    "#Instancia e configura um driver para o Chrome\n",
    "service = Service()\n",
    "options = webdriver.ChromeOptions()\n",
    "driver = webdriver.Chrome(service=service, options=options)"
   ]
  },
  {
   "cell_type": "code",
   "execution_count": 3,
   "metadata": {},
   "outputs": [],
   "source": [
    "#Navega para página da loja\n",
    "url = 'https://www.cskinstore.com/'\n",
    "driver.get(url)"
   ]
  },
  {
   "cell_type": "markdown",
   "metadata": {},
   "source": [
    "Etapas manuais:\n",
    "1 - Logar no site\n",
    "2 - Aceitar os cookies\n",
    "3 - Filtrar FACA\n",
    "4 - Colocar 100 de preco maximo"
   ]
  },
  {
   "cell_type": "code",
   "execution_count": null,
   "metadata": {},
   "outputs": [],
   "source": [
    "teste = 0\n",
    "while teste == 0:\n",
    "    time.sleep(1)\n",
    "    driver.find_element(By.XPATH, '//p[text()=\"Pesquisar\"]').click()\n",
    "    teste = len(driver.find_elements(By.CLASS_NAME, 'css-l21fsy'))\n",
    "\n",
    "# Adiciona ao carrinho\n",
    "driver.find_elements(By.CLASS_NAME, 'chakra-button.css-urmp8u')[0].click()\n",
    "\n",
    "# Vai para o carrinho\n",
    "url = 'https://www.cskinstore.com/cart'\n",
    "driver.get(url)\n",
    "\n",
    "# Clica no checkbox\n",
    "driver.find_elements(By.CLASS_NAME, 'chakra-checkbox__control.css-1n64u0g')[0].click()\n",
    "\n",
    "# Fecha o pedido\n",
    "driver.find_element(By.XPATH, '//button[text()=\"Fechar pedido\"]').click()\n",
    "\n",
    "# Confirma o pedido\n",
    "driver.find_element(By.XPATH, '//button[text()=\"Confirmar\"]').click()"
   ]
  }
 ],
 "metadata": {
  "kernelspec": {
   "display_name": "Python 3",
   "language": "python",
   "name": "python3"
  },
  "language_info": {
   "codemirror_mode": {
    "name": "ipython",
    "version": 3
   },
   "file_extension": ".py",
   "mimetype": "text/x-python",
   "name": "python",
   "nbconvert_exporter": "python",
   "pygments_lexer": "ipython3",
   "version": "3.11.9"
  }
 },
 "nbformat": 4,
 "nbformat_minor": 2
}
