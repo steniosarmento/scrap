{
 "cells": [
  {
   "cell_type": "code",
   "execution_count": 6,
   "metadata": {},
   "outputs": [],
   "source": [
    "#Import das bibliotecas\n",
    "import time\n",
    "import pandas as pd\n",
    "from selenium import webdriver\n",
    "from selenium.webdriver.chrome.service import Service\n",
    "from selenium.webdriver.common.by import By"
   ]
  },
  {
   "cell_type": "code",
   "execution_count": 7,
   "metadata": {},
   "outputs": [
    {
     "data": {
      "text/plain": [
       "CHV_FUN    32\n",
       "dtype: int64"
      ]
     },
     "execution_count": 7,
     "metadata": {},
     "output_type": "execute_result"
    }
   ],
   "source": [
    "#Carrega a lista de Funcis a pesquisar\n",
    "dados = pd.read_csv('input.csv')\n",
    "dados.count()"
   ]
  },
  {
   "cell_type": "code",
   "execution_count": 3,
   "metadata": {},
   "outputs": [],
   "source": [
    "#Cria um dicionário para armazenar os resultados\n",
    "dic_resultado = {'chave':[], 'total':[], 'grupo':[]}"
   ]
  },
  {
   "cell_type": "code",
   "execution_count": 4,
   "metadata": {},
   "outputs": [],
   "source": [
    "#Instancia e configura um driver para o Chrome\n",
    "service = Service()\n",
    "options = webdriver.ChromeOptions()\n",
    "driver = webdriver.Chrome(service=service, options=options)"
   ]
  },
  {
   "cell_type": "code",
   "execution_count": 5,
   "metadata": {},
   "outputs": [],
   "source": [
    "#Navega para página do JogaJunto\n",
    "url = 'https://jogajuntobb.com.br/'\n",
    "driver.get(url)"
   ]
  },
  {
   "cell_type": "markdown",
   "metadata": {},
   "source": [
    "Logar e navegar manualmente até a página da Rede JogaJunto"
   ]
  },
  {
   "cell_type": "code",
   "execution_count": 6,
   "metadata": {},
   "outputs": [
    {
     "ename": "ValueError",
     "evalue": "invalid literal for int() with base 10: 'Mandou Bem'",
     "output_type": "error",
     "traceback": [
      "\u001b[1;31m---------------------------------------------------------------------------\u001b[0m",
      "\u001b[1;31mValueError\u001b[0m                                Traceback (most recent call last)",
      "Cell \u001b[1;32mIn[6], line 17\u001b[0m\n\u001b[0;32m     15\u001b[0m elementos \u001b[38;5;241m=\u001b[39m driver\u001b[38;5;241m.\u001b[39mfind_elements(By\u001b[38;5;241m.\u001b[39mTAG_NAME, \u001b[38;5;124m'\u001b[39m\u001b[38;5;124mb\u001b[39m\u001b[38;5;124m'\u001b[39m)\n\u001b[0;32m     16\u001b[0m \u001b[38;5;28;01mfor\u001b[39;00m elemento \u001b[38;5;129;01min\u001b[39;00m elementos:\n\u001b[1;32m---> 17\u001b[0m     total \u001b[38;5;241m=\u001b[39m total \u001b[38;5;241m+\u001b[39m \u001b[38;5;28;43mint\u001b[39;49m\u001b[43m(\u001b[49m\u001b[43melemento\u001b[49m\u001b[38;5;241;43m.\u001b[39;49m\u001b[43mtext\u001b[49m\u001b[38;5;241;43m.\u001b[39;49m\u001b[43mreplace\u001b[49m\u001b[43m(\u001b[49m\u001b[38;5;124;43m'\u001b[39;49m\u001b[38;5;130;43;01m\\n\u001b[39;49;00m\u001b[38;5;124;43mPONTOS\u001b[39;49m\u001b[38;5;124;43m'\u001b[39;49m\u001b[43m,\u001b[49m\u001b[38;5;124;43m'\u001b[39;49m\u001b[38;5;124;43m'\u001b[39;49m\u001b[43m)\u001b[49m\u001b[38;5;241;43m.\u001b[39;49m\u001b[43mreplace\u001b[49m\u001b[43m(\u001b[49m\u001b[38;5;124;43m'\u001b[39;49m\u001b[38;5;124;43m.\u001b[39;49m\u001b[38;5;124;43m'\u001b[39;49m\u001b[43m,\u001b[49m\u001b[38;5;124;43m'\u001b[39;49m\u001b[38;5;124;43m'\u001b[39;49m\u001b[43m)\u001b[49m\u001b[43m)\u001b[49m\n\u001b[0;32m     18\u001b[0m dic_resultado[\u001b[38;5;124m'\u001b[39m\u001b[38;5;124mchave\u001b[39m\u001b[38;5;124m'\u001b[39m]\u001b[38;5;241m.\u001b[39mappend(valor)\n\u001b[0;32m     19\u001b[0m dic_resultado[\u001b[38;5;124m'\u001b[39m\u001b[38;5;124mtotal\u001b[39m\u001b[38;5;124m'\u001b[39m]\u001b[38;5;241m.\u001b[39mappend(total)\n",
      "\u001b[1;31mValueError\u001b[0m: invalid literal for int() with base 10: 'Mandou Bem'"
     ]
    }
   ],
   "source": [
    "#Loop para percorrer todos os funcis a pesquisar\n",
    "for index, row in dados.iterrows():\n",
    "    valor = row['CHV_FUN']\n",
    "    #Digita o valor da matricula e tecla enter (\\n)\n",
    "    driver.find_element(By.TAG_NAME, 'input').send_keys(valor+ \"\\n\")\n",
    "    time.sleep(6)\n",
    "    #Clica no botão \"VER MAIS\"\n",
    "    driver.find_elements(By.TAG_NAME, 'button')[1].click()\n",
    "    time.sleep(6)\n",
    "    #Clica no botão \"Participação em realizações\"\n",
    "    driver.find_elements(By.TAG_NAME, 'button')[2].click()\n",
    "    time.sleep(6)\n",
    "    #Percorre todas as realizações, somando a pontuação total\n",
    "    total = 0\n",
    "    elementos = driver.find_elements(By.TAG_NAME, 'b')\n",
    "    for elemento in elementos:\n",
    "        total = total + int(elemento.text.replace('\\nPONTOS','').replace('.',''))\n",
    "    dic_resultado['chave'].append(valor)\n",
    "    dic_resultado['total'].append(total)\n",
    "    dic_resultado['grupo'].append(driver.find_elements(By.TAG_NAME, 'span')[1].text)\n",
    "    #Clica no botão \"Voltar\" para reiniciar o loop\n",
    "    driver.find_elements(By.TAG_NAME, 'button')[0].click()\n",
    "    time.sleep(6)"
   ]
  },
  {
   "cell_type": "code",
   "execution_count": 9,
   "metadata": {},
   "outputs": [
    {
     "data": {
      "text/html": [
       "<div>\n",
       "<style scoped>\n",
       "    .dataframe tbody tr th:only-of-type {\n",
       "        vertical-align: middle;\n",
       "    }\n",
       "\n",
       "    .dataframe tbody tr th {\n",
       "        vertical-align: top;\n",
       "    }\n",
       "\n",
       "    .dataframe thead th {\n",
       "        text-align: right;\n",
       "    }\n",
       "</style>\n",
       "<table border=\"1\" class=\"dataframe\">\n",
       "  <thead>\n",
       "    <tr style=\"text-align: right;\">\n",
       "      <th></th>\n",
       "      <th>chave</th>\n",
       "      <th>total</th>\n",
       "      <th>grupo</th>\n",
       "    </tr>\n",
       "  </thead>\n",
       "  <tbody>\n",
       "    <tr>\n",
       "      <th>0</th>\n",
       "      <td>F0169286</td>\n",
       "      <td>9600</td>\n",
       "      <td>Audit/Aud Sênior - Executiva 2</td>\n",
       "    </tr>\n",
       "    <tr>\n",
       "      <th>1</th>\n",
       "      <td>F0310564</td>\n",
       "      <td>5100</td>\n",
       "      <td>Audit/Aud Sênior - Executiva 2</td>\n",
       "    </tr>\n",
       "    <tr>\n",
       "      <th>2</th>\n",
       "      <td>F0443657</td>\n",
       "      <td>5100</td>\n",
       "      <td>Audit/Aud Sênior - Executiva 2</td>\n",
       "    </tr>\n",
       "    <tr>\n",
       "      <th>3</th>\n",
       "      <td>F1348799</td>\n",
       "      <td>4200</td>\n",
       "      <td>Audit/Aud Sênior - Executiva 2</td>\n",
       "    </tr>\n",
       "    <tr>\n",
       "      <th>4</th>\n",
       "      <td>F1765599</td>\n",
       "      <td>1800</td>\n",
       "      <td>DIVAR/GERENTE SETOR</td>\n",
       "    </tr>\n",
       "  </tbody>\n",
       "</table>\n",
       "</div>"
      ],
      "text/plain": [
       "      chave  total                           grupo\n",
       "0  F0169286   9600  Audit/Aud Sênior - Executiva 2\n",
       "1  F0310564   5100  Audit/Aud Sênior - Executiva 2\n",
       "2  F0443657   5100  Audit/Aud Sênior - Executiva 2\n",
       "3  F1348799   4200  Audit/Aud Sênior - Executiva 2\n",
       "4  F1765599   1800             DIVAR/GERENTE SETOR"
      ]
     },
     "execution_count": 9,
     "metadata": {},
     "output_type": "execute_result"
    }
   ],
   "source": [
    "#Transforma o dicionário num dataframe pandas\n",
    "result = pd.DataFrame(dic_resultado)\n",
    "\n",
    "result.head(5)"
   ]
  },
  {
   "cell_type": "code",
   "execution_count": 10,
   "metadata": {},
   "outputs": [],
   "source": [
    "result = result.sort_values(by=['total'], ascending=False)\n",
    "result.to_csv('output.csv',sep = ';', encoding = 'latin-1', index=False)"
   ]
  }
 ],
 "metadata": {
  "kernelspec": {
   "display_name": "Python 3",
   "language": "python",
   "name": "python3"
  },
  "language_info": {
   "codemirror_mode": {
    "name": "ipython",
    "version": 3
   },
   "file_extension": ".py",
   "mimetype": "text/x-python",
   "name": "python",
   "nbconvert_exporter": "python",
   "pygments_lexer": "ipython3",
   "version": "3.12.6"
  }
 },
 "nbformat": 4,
 "nbformat_minor": 2
}
