{
 "cells": [
  {
   "cell_type": "code",
   "execution_count": 23,
   "metadata": {},
   "outputs": [],
   "source": [
    "import requests\n",
    "from bs4 import BeautifulSoup\n",
    "import re\n",
    "import pandas as pd\n",
    "import math"
   ]
  },
  {
   "cell_type": "code",
   "execution_count": 24,
   "metadata": {},
   "outputs": [
    {
     "name": "stdout",
     "output_type": "stream",
     "text": [
      "14\n"
     ]
    }
   ],
   "source": [
    "url = 'https://www.futfanatics.com.br/loja/catalogo.php?loja=311840&categoria=954&variacao=tamanho_41&range=&order=2&pg=1'\n",
    "\n",
    "headers = {'User-Agent': \"Mozilla/5.0 (Windows NT 10.0; Win64; x64) AppleWebKit/537.36 (KHTML, like Gecko) Chrome/112.0.0.0 Safari/537.36\"}\n",
    "\n",
    "site = requests.get(url, headers=headers)\n",
    "\n",
    "encoding = site.encoding if 'charset' in site.headers.get('content-type', '').lower() else None\n",
    "parser = 'html5lib'\n",
    "soup = BeautifulSoup(site.content, parser, from_encoding=encoding)\n",
    "\n",
    "totais = soup.find_all('div', class_=\"search-counter\")\n",
    "\n",
    "total_texto = totais[0].get_text().strip()\n",
    "\n",
    "index = total_texto.find(' ')\n",
    "\n",
    "qtd  = total_texto[:index]\n",
    "\n",
    "ultima_pagina = math.ceil(int(qtd)/40)\n",
    "\n",
    "print(ultima_pagina)"
   ]
  },
  {
   "cell_type": "code",
   "execution_count": 37,
   "metadata": {},
   "outputs": [
    {
     "name": "stdout",
     "output_type": "stream",
     "text": [
      "Página 1 de 14\n",
      "Página 2 de 14\n",
      "Página 3 de 14\n",
      "Página 4 de 14\n",
      "Página 5 de 14\n",
      "Página 6 de 14\n",
      "Página 7 de 14\n",
      "Página 8 de 14\n",
      "Página 9 de 14\n",
      "Página 10 de 14\n",
      "Página 11 de 14\n",
      "Página 12 de 14\n",
      "Página 13 de 14\n",
      "Página 14 de 14\n"
     ]
    }
   ],
   "source": [
    "dic_produtos = {'marca':[], 'preco':[], 'desconto':[]}\n",
    "\n",
    "for i in range(1, ultima_pagina+1):\n",
    "    print('Página', i, 'de', ultima_pagina)\n",
    "    url_pag = f'https://www.futfanatics.com.br/loja/catalogo.php?loja=311840&categoria=954&variacao=tamanho_41&range=&order=2&pg={i}'\n",
    "    site = requests.get(url_pag, headers=headers)\n",
    "    soup = BeautifulSoup(site.content, parser, from_encoding=encoding)\n",
    "    produtos = soup.find_all('div', class_=re.compile('product-item'))\n",
    "\n",
    "    for produto in produtos:\n",
    "        marca = produto.find('div', class_=re.compile('product-name')).get_text().strip()\n",
    "        preco = produto.find('div', class_=re.compile('price')).get_text().strip()\n",
    "        desconto = 0\n",
    "        descontos = produto.find_all('span', class_=re.compile('discount'))\n",
    "        if len(descontos) > 0:\n",
    "            desconto = descontos[0].get_text().strip()\n",
    "        dic_produtos['marca'].append(marca)\n",
    "        dic_produtos['preco'].append(preco)\n",
    "        dic_produtos['desconto'].append(desconto)\n",
    "\n",
    "df = pd.DataFrame(dic_produtos)"
   ]
  },
  {
   "cell_type": "code",
   "execution_count": 41,
   "metadata": {},
   "outputs": [
    {
     "data": {
      "text/html": [
       "<div>\n",
       "<style scoped>\n",
       "    .dataframe tbody tr th:only-of-type {\n",
       "        vertical-align: middle;\n",
       "    }\n",
       "\n",
       "    .dataframe tbody tr th {\n",
       "        vertical-align: top;\n",
       "    }\n",
       "\n",
       "    .dataframe thead th {\n",
       "        text-align: right;\n",
       "    }\n",
       "</style>\n",
       "<table border=\"1\" class=\"dataframe\">\n",
       "  <thead>\n",
       "    <tr style=\"text-align: right;\">\n",
       "      <th></th>\n",
       "      <th>marca</th>\n",
       "      <th>preco</th>\n",
       "      <th>desconto</th>\n",
       "    </tr>\n",
       "  </thead>\n",
       "  <tbody>\n",
       "    <tr>\n",
       "      <th>0</th>\n",
       "      <td>Tenis New Balance Fresh Foam X 1080 Unlaced Prata</td>\n",
       "      <td>R$1.299,90</td>\n",
       "      <td>0</td>\n",
       "    </tr>\n",
       "    <tr>\n",
       "      <th>1</th>\n",
       "      <td>Tenis New Balance Fresh Foam X 1080 Unlaced Br...</td>\n",
       "      <td>R$1.299,90</td>\n",
       "      <td>0</td>\n",
       "    </tr>\n",
       "    <tr>\n",
       "      <th>2</th>\n",
       "      <td>Tênis New Balance Fresh Foam X 1080 Unlaced Preto</td>\n",
       "      <td>R$1.299,90</td>\n",
       "      <td>0</td>\n",
       "    </tr>\n",
       "    <tr>\n",
       "      <th>3</th>\n",
       "      <td>Tênis New Balance More v4 Azul</td>\n",
       "      <td>R$1.249,90</td>\n",
       "      <td>0</td>\n",
       "    </tr>\n",
       "    <tr>\n",
       "      <th>4</th>\n",
       "      <td>Tênis New Balance 1080 V12 London Edition Preto</td>\n",
       "      <td>R$1.249,90</td>\n",
       "      <td>0</td>\n",
       "    </tr>\n",
       "  </tbody>\n",
       "</table>\n",
       "</div>"
      ],
      "text/plain": [
       "                                               marca       preco desconto\n",
       "0  Tenis New Balance Fresh Foam X 1080 Unlaced Prata  R$1.299,90        0\n",
       "1  Tenis New Balance Fresh Foam X 1080 Unlaced Br...  R$1.299,90        0\n",
       "2  Tênis New Balance Fresh Foam X 1080 Unlaced Preto  R$1.299,90        0\n",
       "3                     Tênis New Balance More v4 Azul  R$1.249,90        0\n",
       "4    Tênis New Balance 1080 V12 London Edition Preto  R$1.249,90        0"
      ]
     },
     "execution_count": 41,
     "metadata": {},
     "output_type": "execute_result"
    }
   ],
   "source": [
    "df.head()"
   ]
  },
  {
   "cell_type": "code",
   "execution_count": 42,
   "metadata": {},
   "outputs": [],
   "source": [
    "df.to_csv('precoTenis.csv', encoding='utf-8', sep=';', index=False)"
   ]
  },
  {
   "cell_type": "code",
   "execution_count": 43,
   "metadata": {},
   "outputs": [
    {
     "data": {
      "text/html": [
       "<div>\n",
       "<style scoped>\n",
       "    .dataframe tbody tr th:only-of-type {\n",
       "        vertical-align: middle;\n",
       "    }\n",
       "\n",
       "    .dataframe tbody tr th {\n",
       "        vertical-align: top;\n",
       "    }\n",
       "\n",
       "    .dataframe thead th {\n",
       "        text-align: right;\n",
       "    }\n",
       "</style>\n",
       "<table border=\"1\" class=\"dataframe\">\n",
       "  <thead>\n",
       "    <tr style=\"text-align: right;\">\n",
       "      <th></th>\n",
       "      <th>marca</th>\n",
       "      <th>preco</th>\n",
       "      <th>desconto</th>\n",
       "    </tr>\n",
       "  </thead>\n",
       "  <tbody>\n",
       "    <tr>\n",
       "      <th>0</th>\n",
       "      <td>Tenis New Balance Fresh Foam X 1080 Unlaced Prata</td>\n",
       "      <td>R$1.299,90</td>\n",
       "      <td>0</td>\n",
       "    </tr>\n",
       "    <tr>\n",
       "      <th>1</th>\n",
       "      <td>Tenis New Balance Fresh Foam X 1080 Unlaced Br...</td>\n",
       "      <td>R$1.299,90</td>\n",
       "      <td>0</td>\n",
       "    </tr>\n",
       "    <tr>\n",
       "      <th>2</th>\n",
       "      <td>Tênis New Balance Fresh Foam X 1080 Unlaced Preto</td>\n",
       "      <td>R$1.299,90</td>\n",
       "      <td>0</td>\n",
       "    </tr>\n",
       "    <tr>\n",
       "      <th>3</th>\n",
       "      <td>Tênis New Balance More v4 Azul</td>\n",
       "      <td>R$1.249,90</td>\n",
       "      <td>0</td>\n",
       "    </tr>\n",
       "    <tr>\n",
       "      <th>4</th>\n",
       "      <td>Tênis New Balance 1080 V12 London Edition Preto</td>\n",
       "      <td>R$1.249,90</td>\n",
       "      <td>0</td>\n",
       "    </tr>\n",
       "  </tbody>\n",
       "</table>\n",
       "</div>"
      ],
      "text/plain": [
       "                                               marca       preco desconto\n",
       "0  Tenis New Balance Fresh Foam X 1080 Unlaced Prata  R$1.299,90        0\n",
       "1  Tenis New Balance Fresh Foam X 1080 Unlaced Br...  R$1.299,90        0\n",
       "2  Tênis New Balance Fresh Foam X 1080 Unlaced Preto  R$1.299,90        0\n",
       "3                     Tênis New Balance More v4 Azul  R$1.249,90        0\n",
       "4    Tênis New Balance 1080 V12 London Edition Preto  R$1.249,90        0"
      ]
     },
     "execution_count": 43,
     "metadata": {},
     "output_type": "execute_result"
    }
   ],
   "source": [
    "df = pd.read_csv('precoTenis.csv',sep=';')\n",
    "\n",
    "df.head()"
   ]
  }
 ],
 "metadata": {
  "kernelspec": {
   "display_name": "Python 3",
   "language": "python",
   "name": "python3"
  },
  "language_info": {
   "codemirror_mode": {
    "name": "ipython",
    "version": 3
   },
   "file_extension": ".py",
   "mimetype": "text/x-python",
   "name": "python",
   "nbconvert_exporter": "python",
   "pygments_lexer": "ipython3",
   "version": "3.10.6"
  },
  "orig_nbformat": 4
 },
 "nbformat": 4,
 "nbformat_minor": 2
}
